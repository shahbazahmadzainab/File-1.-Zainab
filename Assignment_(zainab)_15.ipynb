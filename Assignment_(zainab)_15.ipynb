{
  "cells": [
    {
      "cell_type": "markdown",
      "metadata": {
        "id": "UmP4ePip8rRX"
      },
      "source": [
        "# ***OOP Assignment (Part 2)***"
      ]
    },
    {
      "cell_type": "markdown",
      "metadata": {
        "id": "9vu2bABm8_rS"
      },
      "source": [
        "Create a book class with attributes: title, author and pages. Instantiate and print book details."
      ]
    },
    {
      "cell_type": "code",
      "execution_count": null,
      "metadata": {
        "colab": {
          "base_uri": "https://localhost:8080/"
        },
        "id": "1k0zOFhj8qCc",
        "outputId": "15d0aa17-223f-43b1-99ea-9796c964d23a"
      },
      "outputs": [
        {
          "name": "stdout",
          "output_type": "stream",
          "text": [
            "Noorani Guide\n",
            "Noor ul Hassan\n",
            "220\n"
          ]
        }
      ],
      "source": [
        "class Book:\n",
        "  language = \"English\"\n",
        "  def __init__(self,title,author,pages):\n",
        "      self.title = title\n",
        "      self.author = author\n",
        "      self.pages = pages\n",
        "book1 = Book(\"Noorani Guide\", \"Noor ul Hassan\", 220,)\n",
        "print(book1.title)\n",
        "print(book1.author)\n",
        "print(book1.pages)"
      ]
    },
    {
      "cell_type": "markdown",
      "metadata": {
        "id": "k4WG5qCH9PRV"
      },
      "source": [
        "Add a method summary() to return a short description of the book."
      ]
    },
    {
      "cell_type": "code",
      "execution_count": null,
      "metadata": {
        "colab": {
          "base_uri": "https://localhost:8080/"
        },
        "id": "K_TptobVCGxe",
        "outputId": "4d4b3678-bcb8-4e9e-9852-4e774097da73"
      },
      "outputs": [
        {
          "name": "stdout",
          "output_type": "stream",
          "text": [
            "AI basics by Alice Walker has 180 pages.\n"
          ]
        }
      ],
      "source": [
        "class Book:\n",
        "  language = \"English\"\n",
        "  def __init__(self,title,author,pages):\n",
        "      self.title = title\n",
        "      self.author = author\n",
        "      self.pages = pages\n",
        "  def summary(self):\n",
        "      return f\"{self.title} by {self.author} has {self.pages} pages.\"\n",
        "book2 = Book(\"AI basics\", \"Alice Walker\", 180)\n",
        "print(book2.summary())"
      ]
    },
    {
      "cell_type": "markdown",
      "metadata": {
        "id": "kUVr1-aH9ZqP"
      },
      "source": [
        "Create a method is_lenght() that returns True if pages > 300, else False."
      ]
    },
    {
      "cell_type": "code",
      "execution_count": null,
      "metadata": {
        "colab": {
          "base_uri": "https://localhost:8080/"
        },
        "id": "J2SNtwL6CpQ1",
        "outputId": "1919bfb3-161a-4e0b-a0bd-84d56c4c0226"
      },
      "outputs": [
        {
          "name": "stdout",
          "output_type": "stream",
          "text": [
            "True\n"
          ]
        }
      ],
      "source": [
        "class Book:\n",
        "   language = \"English\"\n",
        "   def __init__(self,title,author,pages):\n",
        "      self.title = title\n",
        "      self.author = author\n",
        "      self.pages = pages\n",
        "   def is_lenghty(self):\n",
        "      return self.pages > 300\n",
        "book3 = Book(\"Data science Handbook\", \"Mike Lee\", 420)\n",
        "print(book3.is_lenghty())"
      ]
    },
    {
      "cell_type": "markdown",
      "metadata": {
        "id": "oLgzB6_69lie"
      },
      "source": [
        "Create an author class ewith name and bio attributes, and a method introduce() that prints their intro."
      ]
    },
    {
      "cell_type": "code",
      "execution_count": null,
      "metadata": {
        "colab": {
          "base_uri": "https://localhost:8080/"
        },
        "id": "M1Z7jTiNJTq4",
        "outputId": "ce9b6704-aa2e-4514-db6c-830963803951"
      },
      "outputs": [
        {
          "name": "stdout",
          "output_type": "stream",
          "text": [
            "Hi, i am Sarah khan, I write books on Python Programming.\n"
          ]
        }
      ],
      "source": [
        "class Author:\n",
        "    def __init__(self,name,bio):\n",
        "        self.name = name\n",
        "        self.bio = bio\n",
        "    def introduce(self):\n",
        "        print(f\"Hi, i am {self.name}, {self.bio}\")\n",
        "author = Author(\"Sarah khan\", \"I write books on Python Programming.\")\n",
        "author.introduce()"
      ]
    },
    {
      "cell_type": "markdown",
      "metadata": {
        "id": "J9ibJXQ290Sl"
      },
      "source": [
        "Add a class variable language = \"English\" in the book class. Access it from different instances."
      ]
    },
    {
      "cell_type": "code",
      "execution_count": null,
      "metadata": {
        "colab": {
          "base_uri": "https://localhost:8080/"
        },
        "id": "mjmjG5FaL4Wm",
        "outputId": "375e4abe-f7c8-4d96-f28f-efe992426caf"
      },
      "outputs": [
        {
          "name": "stdout",
          "output_type": "stream",
          "text": [
            "English\n",
            "English\n"
          ]
        }
      ],
      "source": [
        "book4 = Book(\"Deep Learning\", \"Andrew Ng\", 280)\n",
        "book5 = Book(\"ML Intro\", \"Jane Doe\", 150)\n",
        "print(book4.language)\n",
        "print(book5.language)"
      ]
    },
    {
      "cell_type": "markdown",
      "metadata": {
        "id": "m1OPF5pT-EP5"
      },
      "source": [
        "# ***+ Additional Challenges:***"
      ]
    },
    {
      "cell_type": "markdown",
      "metadata": {
        "id": "K8NJqRgz-N0-"
      },
      "source": [
        "Create two book instances and check if they are equal using == and explain the output."
      ]
    },
    {
      "cell_type": "code",
      "execution_count": null,
      "metadata": {
        "colab": {
          "base_uri": "https://localhost:8080/"
        },
        "id": "jHA4IEU9O_6I",
        "outputId": "7c0538c7-9c98-483b-dd7f-e30275cc4c60"
      },
      "outputs": [
        {
          "name": "stdout",
          "output_type": "stream",
          "text": [
            "False\n"
          ]
        }
      ],
      "source": [
        "book6 = Book(\"Deep Learning\", \"Andrew Ng\", 280)\n",
        "book7 = Book(\"ML Intro\", \"Jane Doe\", 150)\n",
        "print(book6 == book7)"
      ]
    },
    {
      "cell_type": "markdown",
      "metadata": {
        "id": "ZRtikY-o-amb"
      },
      "source": [
        "Create a library class with a list of books and a method to add new books."
      ]
    },
    {
      "cell_type": "code",
      "execution_count": null,
      "metadata": {
        "colab": {
          "base_uri": "https://localhost:8080/"
        },
        "id": "YM8ihjT0PO4u",
        "outputId": "7b296b68-0d7d-4e17-8ff1-7cf9932e93c3"
      },
      "outputs": [
        {
          "name": "stdout",
          "output_type": "stream",
          "text": [
            "Total books in library: 2\n"
          ]
        }
      ],
      "source": [
        "class library:\n",
        "    def __init__(self):\n",
        "        self.books = []\n",
        "    def add_book(self,book):\n",
        "        self.books.append(book)\n",
        "library = library()\n",
        "library.add_book(book6)\n",
        "library.add_book(book7)\n",
        "print(\"Total books in library:\", len(library.books))"
      ]
    },
    {
      "cell_type": "markdown",
      "metadata": {
        "id": "4VrYgrtW-qKa"
      },
      "source": [
        "Write a method in library to count total pages of all books."
      ]
    },
    {
      "cell_type": "code",
      "execution_count": null,
      "metadata": {
        "colab": {
          "base_uri": "https://localhost:8080/"
        },
        "id": "iLKvVQvbP8e6",
        "outputId": "00229d3c-41f7-4ad8-b026-ffcb93804029"
      },
      "outputs": [
        {
          "name": "stdout",
          "output_type": "stream",
          "text": [
            "Total pages in my library: 430\n"
          ]
        }
      ],
      "source": [
        "class library:\n",
        "    def __init__(self):\n",
        "        self.books = []\n",
        "    def add_book(self,book):\n",
        "        self.books.append(book)\n",
        "    def total_pages(self):\n",
        "        return sum(book.pages for book in self.books)\n",
        "my_library = library()\n",
        "my_library.add_book(book6)\n",
        "my_library.add_book(book7)\n",
        "print(\"Total pages in my library:\", my_library.total_pages())"
      ]
    },
    {
      "cell_type": "markdown",
      "metadata": {
        "id": "jlBhHpn6-zwM"
      },
      "source": [
        "Override_repr_() in the book class to return a formatted book refrence."
      ]
    },
    {
      "cell_type": "code",
      "execution_count": null,
      "metadata": {
        "colab": {
          "base_uri": "https://localhost:8080/"
        },
        "id": "R5cmrmqbSn9H",
        "outputId": "80e5d570-b415-4ce0-a475-233d708b53d9"
      },
      "outputs": [
        {
          "name": "stdout",
          "output_type": "stream",
          "text": [
            "<Book: Data science Handbook by Mike Lee, Pages: 420>\n"
          ]
        }
      ],
      "source": [
        "class Book:\n",
        "  language = \"English\"\n",
        "  def __init__(self,title,author,pages):\n",
        "      self.title = title\n",
        "      self.author = author\n",
        "      self.pages = pages\n",
        "  def __repr__(self):\n",
        "      return f\"<Book: {self.title} by {self.author}, Pages: {self.pages}>\"\n",
        "book8 = Book(\"Data science Handbook\", \"Mike Lee\", 420)\n",
        "print(book8)"
      ]
    },
    {
      "cell_type": "markdown",
      "metadata": {
        "id": "bJO4S_en-_al"
      },
      "source": [
        "Use the type() and id() functions on an object and explain what they return."
      ]
    },
    {
      "cell_type": "code",
      "execution_count": null,
      "metadata": {
        "colab": {
          "base_uri": "https://localhost:8080/"
        },
        "id": "uWyNMkftTeXb",
        "outputId": "434f64e3-010d-4ec2-dbdd-c9ea4dfbd70c"
      },
      "outputs": [
        {
          "name": "stdout",
          "output_type": "stream",
          "text": [
            "Type of object: <class '__main__.Book'>\n",
            "ID of object: 132745267832912\n"
          ]
        }
      ],
      "source": [
        "print(\"Type of object:\", type(book8))\n",
        "print(\"ID of object:\", id(book8))"
      ]
    }
  ],
  "metadata": {
    "colab": {
      "provenance": []
    },
    "kernelspec": {
      "display_name": "Python 3",
      "name": "python3"
    },
    "language_info": {
      "name": "python"
    }
  },
  "nbformat": 4,
  "nbformat_minor": 0
}
