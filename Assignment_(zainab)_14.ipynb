{
  "cells": [
    {
      "cell_type": "markdown",
      "metadata": {
        "id": "af1HFJgwiq_L"
      },
      "source": [
        "# ***OOP Assignment (Part1)***"
      ]
    },
    {
      "cell_type": "markdown",
      "metadata": {
        "id": "P7e2jVPLi0Fk"
      },
      "source": [
        "Define a class student with attributes name, age, and score. Create an instance and print it's attributes."
      ]
    },
    {
      "cell_type": "code",
      "execution_count": null,
      "metadata": {
        "colab": {
          "base_uri": "https://localhost:8080/"
        },
        "id": "NEeOw72xT_te",
        "outputId": "09a7b0e4-762b-48da-fd1a-5a9fa6965214"
      },
      "outputs": [
        {
          "name": "stdout",
          "output_type": "stream",
          "text": [
            "name: Zainab age: 21 score: 90\n"
          ]
        }
      ],
      "source": [
        "class student:\n",
        "   def __init__(self,name,age,score):\n",
        "      self.name = name\n",
        "      self.age = age\n",
        "      self.score = score\n",
        "student1 = student(\"Zainab\", 21, 90)\n",
        "print(\"name:\", student1.name, \"age:\", student1.age, \"score:\", student1.score)"
      ]
    },
    {
      "cell_type": "markdown",
      "metadata": {
        "id": "3E29yVJg3XNa"
      },
      "source": [
        "Add a method display_info() to student to print a sentence about the student."
      ]
    },
    {
      "cell_type": "code",
      "execution_count": null,
      "metadata": {
        "colab": {
          "base_uri": "https://localhost:8080/"
        },
        "id": "aWcNe50RZlJE",
        "outputId": "efe140b6-269e-44a0-eedd-3b0bb346c24e"
      },
      "outputs": [
        {
          "name": "stdout",
          "output_type": "stream",
          "text": [
            "Zainab is 21 years old and scored 90marks.\n"
          ]
        }
      ],
      "source": [
        "class student:\n",
        "   def __init__(self,name,age,score):\n",
        "      self.name = name\n",
        "      self.age = age\n",
        "      self.score = score\n",
        "   def display_info(self):\n",
        "      print(f\"{self.name} is {self.age} years old and scored {self.score}marks.\")\n",
        "student1 = student(\"Zainab\", 21, 90)\n",
        "student1.display_info()"
      ]
    },
    {
      "cell_type": "markdown",
      "metadata": {
        "id": "HFnnPjTS3jr0"
      },
      "source": [
        "Define a method has_passed() that returns True if score >= 50, else False."
      ]
    },
    {
      "cell_type": "code",
      "execution_count": null,
      "metadata": {
        "colab": {
          "base_uri": "https://localhost:8080/"
        },
        "id": "_hvwpqxjapRc",
        "outputId": "62359f59-a241-4650-f342-76efb3f012ca"
      },
      "outputs": [
        {
          "name": "stdout",
          "output_type": "stream",
          "text": [
            "True\n"
          ]
        }
      ],
      "source": [
        "class student:\n",
        "  def __init__(self,name,age,score):\n",
        "    self.name = name\n",
        "    self.age = age\n",
        "    self.score = score\n",
        "  def has_passed(self):\n",
        "    return self.score >= 50\n",
        "student1 = student(\"Zainab\", 21, 90)\n",
        "print(student1.has_passed())"
      ]
    },
    {
      "cell_type": "markdown",
      "metadata": {
        "id": "U9lfp5fj3xW6"
      },
      "source": [
        "Create a second class Teacher with attributes name, subject and a method teach(). Instantiate and call it's method."
      ]
    },
    {
      "cell_type": "code",
      "execution_count": null,
      "metadata": {
        "colab": {
          "base_uri": "https://localhost:8080/"
        },
        "id": "f-G3K2vjbFJT",
        "outputId": "bd5bc462-5799-427b-85f4-5a5beae2d5d4"
      },
      "outputs": [
        {
          "name": "stdout",
          "output_type": "stream",
          "text": [
            "Mam Shahida is teaching Mathematics.\n"
          ]
        }
      ],
      "source": [
        "class teacher:\n",
        "  def __init__(self,name,subject):\n",
        "    self.name = name\n",
        "    self.subject = subject\n",
        "  def teach(self):\n",
        "    print(f\"{self.name} is teaching {self.subject}.\")\n",
        "teacher1 = teacher(\"Mam Shahida\" , \"Mathematics\")\n",
        "teacher1.teach()"
      ]
    },
    {
      "cell_type": "markdown",
      "metadata": {
        "id": "8YxXDJQN4FnX"
      },
      "source": [
        "Modify student class to include a class variable school = \"GUJAR AI School\" and print it from instances."
      ]
    },
    {
      "cell_type": "code",
      "execution_count": null,
      "metadata": {
        "colab": {
          "base_uri": "https://localhost:8080/"
        },
        "id": "02q-WaSKb9id",
        "outputId": "21e5df0f-588c-424c-b1f5-69636839f777"
      },
      "outputs": [
        {
          "name": "stdout",
          "output_type": "stream",
          "text": [
            "school: GUJAR AI School\n"
          ]
        }
      ],
      "source": [
        "class student:\n",
        "  school = \"GUJAR AI School\"\n",
        "  def __init__(self,name,age,score):\n",
        "    self.name = name\n",
        "    self.age = age\n",
        "    self.score = score\n",
        "student1 = student(\"Zainab\", 21, 90)\n",
        "print(\"school:\", student1.school)"
      ]
    },
    {
      "cell_type": "markdown",
      "metadata": {
        "id": "ImbeCFNL4YGW"
      },
      "source": [
        "Create two student objects and compare if they are instances of Student using isinstance()."
      ]
    },
    {
      "cell_type": "code",
      "execution_count": null,
      "metadata": {
        "colab": {
          "base_uri": "https://localhost:8080/"
        },
        "id": "E2tOHMxEct_n",
        "outputId": "b5253862-c35a-4805-c14e-a3544b5debfe"
      },
      "outputs": [
        {
          "name": "stdout",
          "output_type": "stream",
          "text": [
            "True\n",
            "True\n"
          ]
        }
      ],
      "source": [
        "student1 = student(\"Ayesha\", 20, 50)\n",
        "student2 = student(\"Meerab\", 16, 70)\n",
        "print(isinstance(student1, student))\n",
        "print(isinstance(student2, student))"
      ]
    },
    {
      "cell_type": "markdown",
      "metadata": {
        "id": "MUl4OJhZ5KXg"
      },
      "source": [
        "Create a course class with attributes title and students (a list). Add a method to add students."
      ]
    },
    {
      "cell_type": "code",
      "execution_count": null,
      "metadata": {
        "colab": {
          "base_uri": "https://localhost:8080/"
        },
        "id": "8vDOZ_7cdPnI",
        "outputId": "d0250527-03aa-40b6-8748-6cb2510a55af"
      },
      "outputs": [
        {
          "name": "stdout",
          "output_type": "stream",
          "text": [
            "Ayesha has been added to Python Programming.\n",
            "Meerab has been added to Python Programming.\n"
          ]
        }
      ],
      "source": [
        "class course:\n",
        "  def __init__(self,title):\n",
        "    self.title = title\n",
        "    self.students = []\n",
        "  def add_student(self,student):\n",
        "    self.students.append(student)\n",
        "    print(f\"{student.name} has been added to {self.title}.\")\n",
        "course1 = course(\"Python Programming\")\n",
        "course1.add_student(student1)\n",
        "course1.add_student(student2)"
      ]
    },
    {
      "cell_type": "markdown",
      "metadata": {
        "id": "38bNW_PR6t0G"
      },
      "source": [
        "Write a method in course to compute the average score of enrolled students."
      ]
    },
    {
      "cell_type": "code",
      "execution_count": null,
      "metadata": {
        "colab": {
          "base_uri": "https://localhost:8080/"
        },
        "id": "PbC_8I06eBVN",
        "outputId": "42baf611-dd93-4e7a-ccef-e3ee5f9c1cd0"
      },
      "outputs": [
        {
          "name": "stdout",
          "output_type": "stream",
          "text": [
            "Average Score: 60.0\n"
          ]
        }
      ],
      "source": [
        "class course:\n",
        "  def __init__(self,title):\n",
        "    self.title = title\n",
        "    self.students = []\n",
        "  def add_student(self,student):\n",
        "    self.students.append(student)\n",
        "  def average_score(self):\n",
        "    if not self.students:\n",
        "      return 0\n",
        "    total = sum(student.score for student in self.students)\n",
        "    return total / len(self.students)\n",
        "course1 = course(\"PythonProgramming\")\n",
        "course1.add_student(student1)\n",
        "course1.add_student(student2)\n",
        "print(\"Average Score:\", course1.average_score())"
      ]
    },
    {
      "cell_type": "markdown",
      "metadata": {
        "id": "OfN9HaeM66S5"
      },
      "source": [
        "Override the_str_() method in student class to return a custom string."
      ]
    },
    {
      "cell_type": "code",
      "execution_count": null,
      "metadata": {
        "colab": {
          "base_uri": "https://localhost:8080/"
        },
        "id": "NG1v7EkBgHid",
        "outputId": "8ade4d13-3c4b-4a4c-8373-76914cb3c663"
      },
      "outputs": [
        {
          "name": "stdout",
          "output_type": "stream",
          "text": [
            "<__main__.student object at 0x7ce46073bd50>\n"
          ]
        }
      ],
      "source": [
        "class student:\n",
        "  school = \"GUJAR AI School\"\n",
        "  def __init__(self,name,age,score):\n",
        "    self.name = name\n",
        "    self.age = age\n",
        "    self.score = score\n",
        "  def _str_(self):\n",
        "    return f\"student: {self.name} age: {self.age} score: {self.score}\"\n",
        "student1 = student(\"Zainab\", 21, 90)\n",
        "print(student1)"
      ]
    },
    {
      "cell_type": "markdown",
      "metadata": {
        "id": "ib2P4ZyZ7LJv"
      },
      "source": [
        "Use the dir() function to list attributes & methods of any class."
      ]
    },
    {
      "cell_type": "code",
      "execution_count": null,
      "metadata": {
        "colab": {
          "base_uri": "https://localhost:8080/"
        },
        "id": "JHn2N1HNhocI",
        "outputId": "de9cd1d7-b538-4f4e-faaa-5b0d9874ad23"
      },
      "outputs": [
        {
          "name": "stdout",
          "output_type": "stream",
          "text": [
            "['__class__', '__delattr__', '__dict__', '__dir__', '__doc__', '__eq__', '__format__', '__ge__', '__getattribute__', '__getstate__', '__gt__', '__hash__', '__init__', '__init_subclass__', '__le__', '__lt__', '__module__', '__ne__', '__new__', '__reduce__', '__reduce_ex__', '__repr__', '__setattr__', '__sizeof__', '__str__', '__subclasshook__', '__weakref__', 'age', 'display_info', 'name', 'score']\n"
          ]
        }
      ],
      "source": [
        "class student:\n",
        "  def __init__(self, name,age,score):\n",
        "    self.name = name\n",
        "    self.age = age\n",
        "    self.score = score\n",
        "  def display_info(self):\n",
        "    print(f\"{self.name} is {self.age} years old and scored {self.score} marks.\")\n",
        "student1 = student(\"Zainab\", 21, 90)\n",
        "print(dir(student1))"
      ]
    }
  ],
  "metadata": {
    "colab": {
      "provenance": []
    },
    "kernelspec": {
      "display_name": "Python 3",
      "name": "python3"
    },
    "language_info": {
      "name": "python"
    }
  },
  "nbformat": 4,
  "nbformat_minor": 0
}
