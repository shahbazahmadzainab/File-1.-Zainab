{
 "cells": [
  {
   "cell_type": "markdown",
   "id": "52b46131",
   "metadata": {},
   "source": [
    "# Create a set {10, 20, 30}, use add() to add 50, then update() with a list [40, 60]. Print the final set."
   ]
  },
  {
   "cell_type": "code",
   "execution_count": 26,
   "id": "2bf6b0ba",
   "metadata": {},
   "outputs": [
    {
     "name": "stdout",
     "output_type": "stream",
     "text": [
      "Final set: {40, 10, 50, 20, 60, 30}\n"
     ]
    }
   ],
   "source": [
    "my_set = {10, 20, 30}\n",
    "my_set.add(50)\n",
    "my_set.update([40, 60])\n",
    "print(\"Final set:\", my_set)"
   ]
  },
  {
   "cell_type": "markdown",
   "id": "55e11faa",
   "metadata": {},
   "source": [
    "# Create a set of fruits {\"appla\", \"banana\", \"cherry\"}, remove \"banana\" with remove() and \"orange\" with discard(). Observe the difference in error handling."
   ]
  },
  {
   "cell_type": "code",
   "execution_count": 2,
   "id": "8206fea6",
   "metadata": {},
   "outputs": [
    {
     "name": "stdout",
     "output_type": "stream",
     "text": [
      "fruits set after remove an discard: {'cherry', 'apple'}\n"
     ]
    }
   ],
   "source": [
    "fruits = {\"apple\", \"banana\", \"cherry\"}\n",
    "fruits.remove(\"banana\")\n",
    "fruits.discard(\"orangr\")\n",
    "print(\"fruits set after remove an discard:\", fruits)"
   ]
  },
  {
   "cell_type": "markdown",
   "id": "3e286f18",
   "metadata": {},
   "source": [
    "# Create set {\"red\", \"green\", \"blue\"}. Remove one item with pop() then empty the set with clear(). Print after each."
   ]
  },
  {
   "cell_type": "code",
   "execution_count": 4,
   "id": "61c8f318",
   "metadata": {},
   "outputs": [
    {
     "name": "stdout",
     "output_type": "stream",
     "text": [
      "after pop: {'red', 'blue'} (removed: green )\n",
      "After clear: {'red', 'blue'}\n"
     ]
    }
   ],
   "source": [
    "colors = {\"red\", \"green\", \"blue\"}\n",
    "removed_color = colors.pop()\n",
    "print(\"after pop:\", colors,\"(removed:\", removed_color,\")\")\n",
    "print(\"After clear:\", colors)"
   ]
  },
  {
   "cell_type": "markdown",
   "id": "9a41cd7a",
   "metadata": {},
   "source": [
    "# Given: set1 = {1, 2, 3, 4}, set2 = {3, 4, 5, 6}, perform the following: union(), intersection(), difference(), symmetric_difference(). Print results."
   ]
  },
  {
   "cell_type": "code",
   "execution_count": 6,
   "id": "de3b2d65",
   "metadata": {},
   "outputs": [
    {
     "name": "stdout",
     "output_type": "stream",
     "text": [
      "Union: {1, 2, 3, 4, 5, 6}\n",
      "Intersection: {3, 4}\n",
      "Difference: {1, 2}\n",
      "Symmetric_difference: {1, 2, 5, 6}\n"
     ]
    }
   ],
   "source": [
    "set1 = {1, 2, 3, 4}\n",
    "set2 = {3, 4, 5, 6}\n",
    "print(\"Union:\", set1.union(set2))\n",
    "print(\"Intersection:\", set1.intersection(set2))\n",
    "print(\"Difference:\", set1.difference(set2))\n",
    "print(\"Symmetric_difference:\", set1.symmetric_difference(set2))"
   ]
  },
  {
   "cell_type": "markdown",
   "id": "2784b6d7",
   "metadata": {},
   "source": [
    "# Given sets: A = {1, 2, 3}, B = {1, 2}. Check: Is B a subset of A? Is A a superset of B? Are they disjoint?"
   ]
  },
  {
   "cell_type": "code",
   "execution_count": 9,
   "id": "ad652e1b",
   "metadata": {},
   "outputs": [
    {
     "name": "stdout",
     "output_type": "stream",
     "text": [
      "Is B a subset of A? True\n",
      "Is A a superset of B? True\n",
      "Are they disjoint? False\n"
     ]
    }
   ],
   "source": [
    "A = {1, 2, 3}\n",
    "B = {1, 2}\n",
    "print(\"Is B a subset of A?\", B.issubset(A))\n",
    "print(\"Is A a superset of B?\", A.issuperset(B))\n",
    "print(\"Are they disjoint?\", A.isdisjoint(B))"
   ]
  },
  {
   "cell_type": "markdown",
   "id": "7c9a8f1c",
   "metadata": {},
   "source": [
    "# Create a frozenset (['a', 'e', 'i', 'o', 'u']). Try to add() or remove() an element. Catch the error and explain in comment why frozenset is immutable."
   ]
  },
  {
   "cell_type": "code",
   "execution_count": 11,
   "id": "c1492f8b",
   "metadata": {},
   "outputs": [
    {
     "name": "stdout",
     "output_type": "stream",
     "text": [
      "Error: 'frozenset' object has no attribute 'add'\n"
     ]
    }
   ],
   "source": [
    "vowels = frozenset(['a', 'e', 'i', 'o', 'u'])\n",
    "try:\n",
    "    vowels.add('y')\n",
    "    vowels.remove('u')\n",
    "except AttributeError as e:\n",
    "    print(\"Error:\", e)"
   ]
  },
  {
   "cell_type": "markdown",
   "id": "28555ce0",
   "metadata": {},
   "source": [
    "# Two frozensets: fs 1 = frozenset([1, 2, 3]), fs 2 = frozenset([2, 3, 4]). Apply union(), intersection(), difference(), symmetric_difference(). Print each."
   ]
  },
  {
   "cell_type": "code",
   "execution_count": 12,
   "id": "6d517a09",
   "metadata": {},
   "outputs": [
    {
     "name": "stdout",
     "output_type": "stream",
     "text": [
      "Union: frozenset({1, 2, 3, 4})\n",
      "Intersection: frozenset({2, 3})\n",
      "Difference: frozenset({1})\n",
      "Symmetric_difference: frozenset({1, 4})\n"
     ]
    }
   ],
   "source": [
    "fs1 = frozenset([1, 2, 3])\n",
    "fs2 = frozenset([2, 3, 4])\n",
    "print(\"Union:\", fs1.union(fs2))\n",
    "print(\"Intersection:\", fs1.intersection(fs2))\n",
    "print(\"Difference:\", fs1.difference(fs2))\n",
    "print(\"Symmetric_difference:\", fs1.symmetric_difference(fs2))"
   ]
  },
  {
   "cell_type": "markdown",
   "id": "5e61ce15",
   "metadata": {},
   "source": [
    "# Create a set of cities {\"Lahore\", \"Karachi\", \"Islamabad\"}. Use a loop to check membership. Create a new set and check isdisjoint()."
   ]
  },
  {
   "cell_type": "code",
   "execution_count": 13,
   "id": "7a59109a",
   "metadata": {},
   "outputs": [
    {
     "name": "stdout",
     "output_type": "stream",
     "text": [
      "Is 'Lahore' in cities? True\n",
      "Are cities and new_cities disjoint? True\n",
      "Is 'Peshawar' in cities? False\n",
      "Are cities and new_cities disjoint? True\n"
     ]
    }
   ],
   "source": [
    "cities = {\"Lahore\", \"Karachi\", \"Islamabad\"}\n",
    "for city in [\"Lahore\", \"Peshawar\"]:\n",
    "    print(f\"Is '{city}' in cities?\", city in cities)\n",
    "    new_cities = {\"Peshawawr\",\"Quetta\"}\n",
    "    print(\"Are cities and new_cities disjoint?\", cities.isdisjoint(new_cities))"
   ]
  },
  {
   "cell_type": "markdown",
   "id": "7bafa515",
   "metadata": {},
   "source": [
    "# Take: setA = {1, 2, 3}, setB = {3, 4, 5}. Perform: setA | setB, setA & setB, setA - setB, setA ^ setB. Explain each operator in comments."
   ]
  },
  {
   "cell_type": "code",
   "execution_count": 14,
   "id": "cd60bdd2",
   "metadata": {},
   "outputs": [
    {
     "name": "stdout",
     "output_type": "stream",
     "text": [
      "setA | setB (union): {1, 2, 3, 4, 5}\n",
      "setA & setB (Intersection): {3}\n",
      "setA - setB (Difference): {1, 2}\n",
      "setA ^ setB (Symmetric_difference): {1, 2, 4, 5}\n"
     ]
    }
   ],
   "source": [
    "setA = {1, 2, 3}\n",
    "setB = {3, 4, 5}\n",
    "print(\"setA | setB (union):\", setA | setB)\n",
    "print(\"setA & setB (Intersection):\", setA & setB)\n",
    "print(\"setA - setB (Difference):\", setA - setB)\n",
    "print(\"setA ^ setB (Symmetric_difference):\", setA ^ setB)"
   ]
  },
  {
   "cell_type": "markdown",
   "id": "990397bb",
   "metadata": {},
   "source": [
    "# Ask user for a list of items as input. Convert to set (to remove duplicates), then convert to frozenset. Try ti modify it, catch error, explain why frozenset is inchangeable."
   ]
  },
  {
   "cell_type": "code",
   "execution_count": 30,
   "id": "af4e71a9",
   "metadata": {},
   "outputs": [
    {
     "name": "stdout",
     "output_type": "stream",
     "text": [
      "Frozenset: frozenset({'peach', 'cherry', 'grapes', 'mango', 'apple'})\n",
      "Error: 'frozenset' object has no attribute 'add'\n"
     ]
    }
   ],
   "source": [
    "items = input(\"Enter items separated by spaces:\").split()\n",
    "items_set = (items)\n",
    "items_frozenset = frozenset(items_set)\n",
    "print(\"Frozenset:\", items_frozenset)\n",
    "try:\n",
    "    items_frozenset.add('new')\n",
    "except AttributeError as e:\n",
    "    print(\"Error:\", e)"
   ]
  }
 ],
 "metadata": {
  "kernelspec": {
   "display_name": "Python 3",
   "language": "python",
   "name": "python3"
  },
  "language_info": {
   "codemirror_mode": {
    "name": "ipython",
    "version": 3
   },
   "file_extension": ".py",
   "mimetype": "text/x-python",
   "name": "python",
   "nbconvert_exporter": "python",
   "pygments_lexer": "ipython3",
   "version": "3.13.5"
  }
 },
 "nbformat": 4,
 "nbformat_minor": 5
}
