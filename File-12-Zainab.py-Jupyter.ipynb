{
 "cells": [
  {
   "cell_type": "markdown",
   "id": "156f5260",
   "metadata": {},
   "source": [
    "# Import math module and use math.factorial() to find factorial.Create a function double(n) to return twice the input. Call both function."
   ]
  },
  {
   "cell_type": "code",
   "execution_count": 1,
   "id": "c3f7d494",
   "metadata": {},
   "outputs": [
    {
     "name": "stdout",
     "output_type": "stream",
     "text": [
      "Factorial of 9 is 362880\n",
      "Double of 9 is 18\n"
     ]
    }
   ],
   "source": [
    "import math\n",
    "def double(n):\n",
    "    return n * 2\n",
    "num = 9\n",
    "fact = math.factorial(num)\n",
    "doubled = double(num)\n",
    "print(\"Factorial of\", num, \"is\", fact)\n",
    "print(\"Double of\", num, \"is\", doubled)"
   ]
  },
  {
   "cell_type": "markdown",
   "id": "ca9f9c13",
   "metadata": {},
   "source": [
    "# Import random and use random.choice() on a list. Define greet(name) to print a greeting. Use len() to print the list lenght."
   ]
  },
  {
   "cell_type": "code",
   "execution_count": 3,
   "id": "7e232dcf",
   "metadata": {},
   "outputs": [
    {
     "name": "stdout",
     "output_type": "stream",
     "text": [
      "Randomly selected name: Muneeb\n",
      "Hello, Muneeb!\n",
      "Total names in list: 4\n"
     ]
    }
   ],
   "source": [
    "import random\n",
    "names = [\"Ayesha\", \"Seerat\", \"Kashif\", \"Muneeb\"]\n",
    "random_name = random.choice(names)\n",
    "def greet(name):\n",
    "    print(\"Hello,\", name + \"!\")\n",
    "print(\"Randomly selected name:\", random_name)\n",
    "greet(random_name)\n",
    "print(\"Total names in list:\", len(names))"
   ]
  },
  {
   "cell_type": "markdown",
   "id": "d988b1cf",
   "metadata": {},
   "source": [
    "# Use sum() to add list elements. Import statistics and use mean(). Create is_even(num) to check even numbers."
   ]
  },
  {
   "cell_type": "code",
   "execution_count": 4,
   "id": "68457e63",
   "metadata": {},
   "outputs": [
    {
     "name": "stdout",
     "output_type": "stream",
     "text": [
      "Numbers: [10, 20, 30, 40, 50]\n",
      "Sum: 150\n",
      "Mean: 30\n",
      "Is first number even? True\n"
     ]
    }
   ],
   "source": [
    "import statistics\n",
    "numbers = [10, 20, 30, 40, 50]\n",
    "total = sum(numbers)\n",
    "average = statistics.mean(numbers)\n",
    "def is_even(num):\n",
    "    return num % 2 == 0\n",
    "print(\"Numbers:\", numbers)\n",
    "print(\"Sum:\", total)\n",
    "print(\"Mean:\", average)\n",
    "print(\"Is first number even?\", is_even(numbers[0]))"
   ]
  },
  {
   "cell_type": "markdown",
   "id": "9b13c256",
   "metadata": {},
   "source": [
    "# Import datetime and print current date & time using datetime.now(). Create say_hello() function. Check a variable's type with type()."
   ]
  },
  {
   "cell_type": "code",
   "execution_count": 6,
   "id": "044e4ed2",
   "metadata": {},
   "outputs": [
    {
     "name": "stdout",
     "output_type": "stream",
     "text": [
      "Current date and time: 2025-07-11 08:39:16.593711\n",
      "Hello! Have a nice day.\n",
      "Type of message variable: <class 'str'>\n"
     ]
    }
   ],
   "source": [
    "from datetime import datetime\n",
    "def say_hello():\n",
    "    print(\"Hello! Have a nice day.\")\n",
    "current_time = datetime.now()\n",
    "message = \"Today is a best day.\"\n",
    "print(\"Current date and time:\", current_time)\n",
    "say_hello()\n",
    "print(\"Type of message variable:\", type(message))"
   ]
  },
  {
   "cell_type": "markdown",
   "metadata": {},
   "source": [
    "# 𝗖𝗿𝗲𝗮𝘁𝗲 area_of_circle(radius) 𝘂𝘀𝗶𝗻𝗴 𝝅r². 𝗜𝗺𝗽𝗼𝗿𝘁 math 𝗮𝗻𝗱 𝘂𝘀𝗲 math.pi. 𝗣𝗿𝗶𝗻𝘁 𝘁𝗵𝗲 𝗮𝗿𝗲𝗮 𝗮𝗻𝗱 𝗰𝗵𝗲𝗰𝗸 𝘁𝘆𝗽𝗲."
   ]
  },
  {
   "cell_type": "code",
   "execution_count": 8,
   "id": "e38b7e3a",
   "metadata": {},
   "outputs": [
    {
     "name": "stdout",
     "output_type": "stream",
     "text": [
      "Area of circle with radius 9 is 254.46900494077323\n",
      "Type of area: <class 'float'>\n"
     ]
    }
   ],
   "source": [
    "import math\n",
    "def area_of_circle(radius):\n",
    "    return math.pi * radius * radius\n",
    "radius = 9\n",
    "area = area_of_circle(radius)\n",
    "print(\"Area of circle with radius\", radius, \"is\", area)\n",
    "print(\"Type of area:\", type(area))"
   ]
  },
  {
   "cell_type": "markdown",
   "id": "14a58b17",
   "metadata": {},
   "source": [
    "# Import random. Generate a random number using radiant(10, 100). Define check_number(num) to check if greater than 50."
   ]
  },
  {
   "cell_type": "code",
   "execution_count": 14,
   "id": "b851e01e",
   "metadata": {},
   "outputs": [
    {
     "name": "stdout",
     "output_type": "stream",
     "text": [
      "Random number: 40\n",
      "40 is not greater than 50\n"
     ]
    }
   ],
   "source": [
    "import random\n",
    "def check_number(num):\n",
    "    if num > 50:\n",
    "        print(num, \"is greater than 50\")\n",
    "    else:\n",
    "        print(num, \"is not greater than 50\")\n",
    "rand_num = random.randint(10, 100)\n",
    "print(\"Random number:\", rand_num)\n",
    "check_number(rand_num)"
   ]
  },
  {
   "cell_type": "markdown",
   "id": "8a16f5a6",
   "metadata": {},
   "source": [
    "# Use max() on a list. Import math and use math.pow(x, y). Create display_info() to print name and age."
   ]
  },
  {
   "cell_type": "code",
   "execution_count": 15,
   "id": "41c812e7",
   "metadata": {},
   "outputs": [
    {
     "name": "stdout",
     "output_type": "stream",
     "text": [
      "Numbers: [5, 6, 9, 12, 34]\n",
      "Maximum number: 34\n",
      "2 raised to power 3: 16.0\n",
      "Name: Zainab\n",
      "Age: 21\n"
     ]
    }
   ],
   "source": [
    "import math\n",
    "numbers = [5, 6, 9, 12, 34]\n",
    "max_num = max(numbers)\n",
    "result = math.pow(2, 4)\n",
    "def display_info():\n",
    "    name = \"Zainab\"\n",
    "    age = 21\n",
    "    print(\"Name:\", name)\n",
    "    print(\"Age:\", age)\n",
    "print(\"Numbers:\", numbers)\n",
    "print(\"Maximum number:\", max_num)\n",
    "print(\"2 raised to power 3:\", result)\n",
    "display_info()"
   ]
  },
  {
   "cell_type": "markdown",
   "id": "1c9b3180",
   "metadata": {},
   "source": [
    "# Import calendar. Print May 2025 using calendar.month(2025, 5). Count characters with len(). Define show_message()."
   ]
  },
  {
   "cell_type": "code",
   "execution_count": 16,
   "id": "85c64e61",
   "metadata": {},
   "outputs": [
    {
     "name": "stdout",
     "output_type": "stream",
     "text": [
      "      May 2025\n",
      "Mo Tu We Th Fr Sa Su\n",
      "          1  2  3  4\n",
      " 5  6  7  8  9 10 11\n",
      "12 13 14 15 16 17 18\n",
      "19 20 21 22 23 24 25\n",
      "26 27 28 29 30 31\n",
      "\n",
      "Message: Welcome to Python programming!\n",
      "Number of characters in message: 30\n",
      "This is your custom message!\n"
     ]
    }
   ],
   "source": [
    "import calendar\n",
    "may_2025 = calendar.month(2025, 5)\n",
    "message = \"Welcome to Python programming!\"\n",
    "def show_message():\n",
    "    print(\"This is your custom message!\")\n",
    "print(may_2025)\n",
    "print(\"Message:\", message)\n",
    "print(\"Number of characters in message:\", len(message))\n",
    "show_message()"
   ]
  },
  {
   "cell_type": "markdown",
   "id": "55665f41",
   "metadata": {},
   "source": [
    "# Import os, print current dir using os.getcwd(). Convert int to string with str(). Create multiply(x, y) to return product."
   ]
  },
  {
   "cell_type": "code",
   "execution_count": 18,
   "id": "209761f8",
   "metadata": {},
   "outputs": [
    {
     "name": "stdout",
     "output_type": "stream",
     "text": [
      "Current working directory: c:\\Users\\dell\\OneDrive\\Desktop\\PythonProjects-Zainab\n",
      "Number as string: 123\n",
      "Miltiply 4 and 5: 20\n"
     ]
    }
   ],
   "source": [
    "import os\n",
    "def multiply(x, y):\n",
    "    return x * y\n",
    "current_dir = os.getcwd()\n",
    "num = 123\n",
    "num_str = str(num)\n",
    "print(\"Current working directory:\", current_dir)\n",
    "print(\"Number as string:\", num_str)\n",
    "print(\"Miltiply 4 and 5:\", multiply(4, 5))"
   ]
  },
  {
   "cell_type": "markdown",
   "id": "6a35eb8f",
   "metadata": {},
   "source": [
    "# Define calculate_square_root(num) using math.sqrt(). Take user input, convert to int, check type, and print square root."
   ]
  },
  {
   "cell_type": "code",
   "execution_count": 19,
   "id": "d35d468a",
   "metadata": {},
   "outputs": [
    {
     "name": "stdout",
     "output_type": "stream",
     "text": [
      "Square root of 22 is 4.69041575982343\n",
      "Type of sqrt_result: <class 'float'>\n"
     ]
    }
   ],
   "source": [
    "import math\n",
    "def calculate_square_root(num):\n",
    "    return math.sqrt(num)\n",
    "user_input = input(\"Enter a number:\")\n",
    "number = int(user_input)\n",
    "sqrt_result = calculate_square_root(number)\n",
    "print(\"Square root of\", number, \"is\", sqrt_result)\n",
    "print(\"Type of sqrt_result:\", type(sqrt_result))"
   ]
  }
 ],
 "metadata": {
  "kernelspec": {
   "display_name": "Python 3",
   "language": "python",
   "name": "python3"
  },
  "language_info": {
   "codemirror_mode": {
    "name": "ipython",
    "version": 3
   },
   "file_extension": ".py",
   "mimetype": "text/x-python",
   "name": "python",
   "nbconvert_exporter": "python",
   "pygments_lexer": "ipython3",
   "version": "3.13.5"
  }
 },
 "nbformat": 4,
 "nbformat_minor": 5
}
